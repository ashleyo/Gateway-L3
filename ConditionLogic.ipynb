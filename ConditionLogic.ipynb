{
 "cells": [
  {
   "cell_type": "markdown",
   "metadata": {},
   "source": [
    "# Conditional Logic\n",
    "\n",
    "The simples and most obvious way to express conditional logic in Python is with an `if else` block"
   ]
  },
  {
   "cell_type": "code",
   "execution_count": 1,
   "metadata": {},
   "outputs": [
    {
     "name": "stdout",
     "output_type": "stream",
     "text": [
      "3 is odd\n"
     ]
    }
   ],
   "source": [
    "value = int(input(\"give me number\")) # no error checking!\n",
    "\n",
    "if value % 2 == 0:\n",
    "    print(f\"{value} is even\")\n",
    "else:\n",
    "    print(f\"{value} is odd\")"
   ]
  },
  {
   "cell_type": "markdown",
   "metadata": {},
   "source": [
    "Some comments\n",
    "~ `else` is always optional\n",
    "+ `else` can be used with lots of blocks in Python, not just `if`, but that is the commonest use\n",
    "+ `if` blocks can be chained together with `elif` but this (opinion) can lead to ugly code \n",
    "+ A more modern style (my preferred, opionated) approach is to use `match` expression if the logic is complicated"
   ]
  },
  {
   "cell_type": "code",
   "execution_count": 2,
   "metadata": {},
   "outputs": [
    {
     "name": "stdout",
     "output_type": "stream",
     "text": [
      "y axis\n",
      "x axis\n",
      "arbitrary point\n"
     ]
    }
   ],
   "source": [
    "points = [(0,2), (3,0), (4,5)]\n",
    "\n",
    "for point in points:\n",
    "    match point:\n",
    "        case (0, 0):\n",
    "            print(\"origin\")\n",
    "        case (0, _):\n",
    "            print(\"y axis\")\n",
    "        case (_, 0):\n",
    "            print(\"x axis\")\n",
    "        case (x, y) if x == y:\n",
    "            print(\"diagonal\")\n",
    "        case _:\n",
    "            print(\"arbitrary point\")\n"
   ]
  },
  {
   "cell_type": "markdown",
   "metadata": {},
   "source": [
    "Shorter constructs are often used for some very common cases. "
   ]
  },
  {
   "cell_type": "code",
   "execution_count": null,
   "metadata": {},
   "outputs": [],
   "source": [
    "# Assigning a variable a value based on logic\n",
    "x = 10\n",
    "\n",
    "y = \"even\" if x % 2 == 0 else \"odd\""
   ]
  },
  {
   "cell_type": "code",
   "execution_count": null,
   "metadata": {},
   "outputs": [],
   "source": [
    "# `and` and `or` are short-circuiting, so they are often used in this role too\n",
    "\n",
    "value = x or \"default value\" # if x is falsy, use \"default value\". False includes None, 0 and empty strings\n"
   ]
  },
  {
   "cell_type": "markdown",
   "metadata": {},
   "source": [
    "# Data Structures\n",
    "\n",
    "Data Structures are how you want your data structured, organized, and accessed. Very important. Often the hard work of an algorithm or a problem is coming up with the right data structure.\n",
    "\n",
    "Python has \n",
    "+ Lists\n",
    "+ Tuples\n",
    "+ Sets \n",
    "+ Dictionaries\n",
    "\n",
    "... and more. These are the simple built-in data structures though.\n",
    "\n",
    "But let's get more basic. Most languages support a more basic type called an `array`.\n",
    "\n",
    "Suppose we want to keep information about a deck of cards. We might code them with integers. There are 52 cards so we might go 0 -> Ace of Spades, 1 - > Two of Spades, ... 12 -> King of Spades, 13 -> Ace of Hearts, ... 51 -> King of Clubs.\n",
    "\n",
    "If we wanted to know the order as well, we have to keep 52 numbers arranged, eg. [13, 2, 51 ... ] would mean this pack has the order AH, 2S, KC, ...\n",
    "\n",
    "A computer has two problems - packing this data efficiently into memory and retrieving it quickly. When a) all the data is the same fixed size type (in this case all the values are integers) and b) we know how many values there are (52), we can use an array.\n",
    "\n",
    "Integers in many computer systems are 4 bytes long (32 bits). So we need to reserve 4 x 52 = 208 bytes in this case. This calculation works because they are all the same type and the type has a fixed size - it would not work with strings because a string might be any length.\n",
    "\n",
    "Retrieving them quickly is easy. We store them in adjacent memory locations. If the address of the first one is A, then the second is at address A+4, the next at A+8, and the last at A+(51*4)\n",
    "\n",
    "In a computer language we might type `print(cards[14])` and the computer quickly retrieves the number at A+4*14 for us. Computers love this stuff, they can do it in or or two machine-code instructions very quickly (each m/c instruction takes perhaps one CPU cycle to execute - at perhaps 3 billion cycles per second -- this is fast! Computers love simple arithmetic.)\n",
    "\n",
    "The downside of arrays is i) all the elements must be the same type ii) the type must be fixed size iii) we must know how many spaces in RAM to reserve, we must know how big the array needs to be.\n",
    "\n",
    "For all of these reasons Python hides simple arrays from us and gives us much more powerful, flexible (if less efficient) types such as Lists\n",
    "\n",
    "Lists can\n",
    "+ store any type\n",
    "+ the types do not have to be fixed size\n",
    "+ we do not need to know how many we have in advance, list can be extended on the fly\n",
    "\n",
    "But all of Pythons data structures are built for us, in the underlying code of the Python interpreter, out of arrays.\n",
    "\n",
    "Ironically (?) Python ends up adding arrays back in later through packages like `numpy` for application such as data science where eficient storage and fast access really, really matter.\n",
    "\n",
    "But remember - data structures are all about storing and retrieving data efficiently.\n",
    "\n"
   ]
  },
  {
   "cell_type": "markdown",
   "metadata": {},
   "source": []
  }
 ],
 "metadata": {
  "kernelspec": {
   "display_name": "Python 3",
   "language": "python",
   "name": "python3"
  },
  "language_info": {
   "codemirror_mode": {
    "name": "ipython",
    "version": 3
   },
   "file_extension": ".py",
   "mimetype": "text/x-python",
   "name": "python",
   "nbconvert_exporter": "python",
   "pygments_lexer": "ipython3",
   "version": "3.12.3"
  }
 },
 "nbformat": 4,
 "nbformat_minor": 2
}
